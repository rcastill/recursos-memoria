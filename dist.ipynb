{
 "cells": [
  {
   "cell_type": "markdown",
   "metadata": {},
   "source": [
    "Código para guardar desde mongodb local\n",
    "```python\n",
    "from pymongo import MongoClient, ASCENDING\n",
    "import json\n",
    "\n",
    "c = MongoClient('localhost', 27018)\n",
    "\n",
    "\n",
    "def _ser(e):\n",
    "    e['_id'] = str(e['_id'])\n",
    "    e['ts'] = e['ts'].isoformat()\n",
    "    e['hum_ts'] = e['hum_ts'].isoformat()\n",
    "    e['prc_ts'] = e['prc_ts'].isoformat()\n",
    "    e['tmp_ts'] = e['tmp_ts'].isoformat()\n",
    "    e['wnd_ts'] = e['wnd_ts'].isoformat()\n",
    "    return e\n",
    "\n",
    "def _save_data(fname):\n",
    "    data = [ser(e) for e in c.dmc.data.find({}).sort('ts',ASCENDING)]\n",
    "    with open(fname, 'w') as f:\n",
    "        json.dump(data, f)\n",
    "\n",
    "_save_data('meteo-data.json')\n",
    "```"
   ]
  },
  {
   "cell_type": "code",
   "execution_count": 75,
   "metadata": {},
   "outputs": [],
   "source": [
    "# imports\n",
    "\n",
    "# parser.parse(): isodate to datetime.datetime\n",
    "import dateutil.parser\n",
    "\n",
    "# gráficos\n",
    "%matplotlib inline\n",
    "import matplotlib.pyplot as plt\n",
    "\n",
    "# utilidad\n",
    "def plot(save, title, xlabel, ylabel, plot_fn, *args, **kwargs):\n",
    "    if not save.endswith('.png'):\n",
    "        save += '.png'\n",
    "    plt.figure(figsize=(20,10))\n",
    "    plt.tick_params(labelsize=20)\n",
    "    plot_fn(*args, **kwargs)\n",
    "    plt.title(title, fontsize=30)\n",
    "    plt.xlabel(xlabel, fontsize=24)\n",
    "    plt.ylabel(ylabel, fontsize=24)\n",
    "    plt.savefig(save)\n",
    "    plt.show()"
   ]
  },
  {
   "cell_type": "markdown",
   "metadata": {},
   "source": [
    "# Carga de datos\n",
    "\n",
    "A continuación se definen funciones para cargar datos:\n",
    "\n",
    "- Meteorológicos\n",
    "- de Incendios"
   ]
  },
  {
   "cell_type": "code",
   "execution_count": 40,
   "metadata": {},
   "outputs": [],
   "source": [
    "def load_meteo_data(fname):\n",
    "    '''Carga archivo .json con información de meteorología,\n",
    "    '''\n",
    "    def de(e):\n",
    "        e['ts'] = dateutil.parser.parse(e['ts'])\n",
    "        e['hum_ts'] = dateutil.parser.parse(e['hum_ts'])\n",
    "        e['prc_ts'] = dateutil.parser.parse(e['prc_ts'])\n",
    "        e['tmp_ts'] = dateutil.parser.parse(e['tmp_ts'])\n",
    "        e['wnd_ts'] = dateutil.parser.parse(e['wnd_ts'])\n",
    "        return e\n",
    "        \n",
    "    with open(fname, 'r') as f:\n",
    "        return [de(e) for e in json.load(f)]\n",
    "\n",
    "def load_wildfire_data(filename):\n",
    "    with open(filename) as f:\n",
    "        wildfires = json.load(f)\n",
    "    for w in wildfires:\n",
    "        w['start'] = dateutil.parser.parse(w['start'])\n",
    "    return sorted(wildfires, key=lambda x: x['start'])"
   ]
  },
  {
   "cell_type": "code",
   "execution_count": 41,
   "metadata": {},
   "outputs": [],
   "source": [
    "d = load_meteo_data('meteo-data.json')\n",
    "w = load_wildfire_data('wz3ext.json')"
   ]
  },
  {
   "cell_type": "markdown",
   "metadata": {},
   "source": [
    "# Formatos\n",
    "\n",
    "## Datos Meteorológicos\n",
    "\n",
    "| Nombre  | descripción                                   | tipo     |\n",
    "| ------- | --------------------------------------------- | -------- |\n",
    "| _id     | id mongodb                                    | str      |\n",
    "| ts      | timestamp dato                                | datetime |\n",
    "| dev     | id estación meteorológica                     | int      |\n",
    "| hum     | humedad relativa (%)                          | float    |\n",
    "| hum_ts  | timestamp asociado a humedad                  | datetime |\n",
    "| prc     | precipitación (mm)                            | float    |\n",
    "| prc_ts  | timestamp asociado a precipitación            | datetime |\n",
    "| tmp     | temperatura (°C)                              | float    |\n",
    "| tmp_ts  | timestamp asociado a temperatura              | float    |\n",
    "| wnd     | velocidad del viento (km/h)                   | float    |\n",
    "| wnd_dir | dirección viento (°)                          | int      |\n",
    "| wnd_ts  | timestamp asociado a viento                   | datetime |\n",
    "| valid   | verdadero si es que todos los _ts son iguales | bool     |\n",
    "\n",
    "*La razón de tener distintos timestamp por cada valor es que no a todas horas se tiene un valor para la variable en cuestión.\n",
    "\n",
    "## Datos de Incendios\n",
    "\n",
    "| Nombre      | descripción                                     | tipo     |\n",
    "| ----------- | ----------------------------------------------- | -------- |\n",
    "| lat         | latitud                                         | float    |\n",
    "| lon         | longitud                                        | float    |\n",
    "| start       | inicio del incendio                             | datetime |\n",
    "| duration    | duración (h)                                    | float    |\n",
    "| cause       | causa registrada                                | str      |\n",
    "| distance_to | distancia (km) desde una estación meteorológica | dict     |"
   ]
  },
  {
   "cell_type": "markdown",
   "metadata": {},
   "source": [
    "# Análisis de Causas\n",
    "\n",
    "A continuación se revisan los datos de incendios de la zona 3 (ver Tabla 6, documento de memoria) en búsqueda de las causas de ignición registradas más comunes.\n",
    "\n",
    "Se obtienen las posibles causas y la cantidad de ocurrencias:"
   ]
  },
  {
   "cell_type": "code",
   "execution_count": 51,
   "metadata": {
    "scrolled": false
   },
   "outputs": [
    {
     "name": "stdout",
     "output_type": "stream",
     "text": [
      "[1.1.2] Quema ilegal de desechos de cosecha forestal (quema para reforestación) (1 ocurrencia)\n",
      "[1.1.5] Quema legal de habilitación de terreno forestal (quema para forestación) (1 ocurrencia)\n",
      "[1.1.19] Chispa  maquinaria en faena forestal (skidder  tractor  vehí­culo liviano y pesado) (1 ocurrencia)\n",
      "[1.4.1] Uso de fuego para actividades recreativas en áreas no habilitadas  (excursionistas  paseantes  asados) (2 ocurrencias)\n",
      "[1.4.5] Niños jugando con fuego (23 ocurrencias)\n",
      "[1.6.3] Incendio estructural (campamento forestal  casa habitación u otras edificaciones) (5 ocurrencias)\n",
      "[1.7.1] Uso de fuego por transeúntes (304 ocurrencias)\n",
      "[1.7.3] Accidente o incendio de vehí­culo en tránsito (1 ocurrencia)\n",
      "[1.8.1] Quema de basuras  desechos vegetales u otros no clasificados (distintos de vertederos o basurales autorizados) (5 ocurrencias)\n",
      "[1.8.2] Quema legal de aserrí­n o aserrí­n encendido (1 ocurrencia)\n",
      "[1.8.14] Encendido de vertederos o basurales autorizados  (1 ocurrencia)\n",
      "[1.9.3] Corte de cable por caí­da de tendido eléctrico o postación (2 ocurrencias)\n",
      "[1.9.4] Corte de cable por otro accidente o acción no clasificada (1 ocurrencia)\n",
      "[1.10.5] Soldadura y montaje de estructuras varias (torres de alta tensión  oleoductos  etc.) (1 ocurrencia)\n",
      "[2.1.1] Pirómano (insano mental que disfruta del fuego) (76 ocurrencias)\n",
      "[2.1.11] Otros intencionales no clasificados (9 ocurrencias)\n",
      "[3.1.1] Caí­da de rayo (1 ocurrencia)\n",
      "[4.1.1] Desconocida (se investiga pero no es posible establecer la causa origen) (1 ocurrencia)\n"
     ]
    }
   ],
   "source": [
    "def cause_code(cause):\n",
    "    return cause[:cause.find('. ') + 1]\n",
    "\n",
    "def cause_cmp(cause):\n",
    "    M, m, p, _ = cause_code(cause).split('.')\n",
    "    return int(M) * 1000 + int(m) * 100 + int(p)\n",
    "\n",
    "# wz1 < wz2 < wz3\n",
    "causes = {}\n",
    "for wi in w:\n",
    "    if wi['cause'] in causes:\n",
    "        causes[wi['cause']] += 1\n",
    "    else:\n",
    "        causes[wi['cause']] = 1\n",
    "\n",
    "for cause in sorted(causes.keys(), key=cause_cmp):\n",
    "    print(f\"[{cause_code(cause)[:-1]}] {cause[len(cause_code(cause))+1:]} ({causes[cause]} ocurrencia{'s' if causes[cause]>1 else ''})\")"
   ]
  },
  {
   "cell_type": "markdown",
   "metadata": {},
   "source": [
    "Luego podemos definir las causas legales:"
   ]
  },
  {
   "cell_type": "code",
   "execution_count": 52,
   "metadata": {},
   "outputs": [],
   "source": [
    "def cause_is_legal(cause):\n",
    "    return\\\n",
    "        cause.startswith('1.1.5.') or\\\n",
    "        cause.startswith('1.8.1.') or\\\n",
    "        cause.startswith('1.8.2') or\\\n",
    "        cause.startswith('1.8.14')"
   ]
  },
  {
   "cell_type": "markdown",
   "metadata": {},
   "source": [
    "Finalmente se genera un gráfico de cantidad de ocurrencias (log) por categorías, donde se marca con azul las causas legales:"
   ]
  },
  {
   "cell_type": "code",
   "execution_count": 77,
   "metadata": {},
   "outputs": [
    {
     "data": {
      "image/png": "[encoded data removed]",
      "text/plain": [
       "<Figure size 1440x720 with 1 Axes>"
      ]
     },
     "metadata": {
      "needs_background": "light"
     },
     "output_type": "display_data"
    }
   ],
   "source": [
    "sorted_causes = sorted(causes.items(), key=lambda x: x[1])\n",
    "\n",
    "x_cause = [cause_code(i[0]) for i in sorted_causes]\n",
    "y_cause = [i[1] for i in sorted_causes] # occurrences\n",
    "c_cause = ['blue' if cause_is_legal(c[0]) else 'red' for c in sorted_causes]\n",
    "\n",
    "plot('incendios-categoria-ocurrencia',\n",
    "    'Ocurrencia de Incendios por Categorías (log)',\n",
    "    'log(Ocurrencias)',\n",
    "    'Categoría',\n",
    "     plt.barh,\n",
    "         x_cause,\n",
    "         y_cause,\n",
    "         color=c_cause,\n",
    "         log=True)"
   ]
  },
  {
   "cell_type": "markdown",
   "metadata": {},
   "source": [
    "# Análisis de Lluvias\n",
    "\n",
    "Ver *Drought.ipynb*\n"
   ]
  }
 ],
 "metadata": {
  "kernelspec": {
   "display_name": "Python 3",
   "language": "python",
   "name": "python3"
  },
  "language_info": {
   "codemirror_mode": {
    "name": "ipython",
    "version": 3
   },
   "file_extension": ".py",
   "mimetype": "text/x-python",
   "name": "python",
   "nbconvert_exporter": "python",
   "pygments_lexer": "ipython3",
   "version": "3.7.3"
  }
 },
 "nbformat": 4,
 "nbformat_minor": 2
}
